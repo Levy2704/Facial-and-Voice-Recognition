{
 "cells": [
  {
   "cell_type": "code",
   "execution_count": 46,
   "id": "75277893",
   "metadata": {},
   "outputs": [],
   "source": [
    "import cv2\n",
    "import sys"
   ]
  },
  {
   "cell_type": "code",
   "execution_count": 56,
   "id": "901e619b",
   "metadata": {},
   "outputs": [],
   "source": [
    "#Get user to implement values\n",
    "cascPath=\"haarcascade_frontalface_default.xml\""
   ]
  },
  {
   "cell_type": "code",
   "execution_count": 57,
   "id": "c6c048d7",
   "metadata": {},
   "outputs": [],
   "source": [
    "#Create the haar cascade\n",
    "faceCascade = cv2.CascadeClassifier(cascPath)\n",
    "video_capture= cv2.VideoCapture(0)"
   ]
  },
  {
   "cell_type": "code",
   "execution_count": 59,
   "id": "3186567a",
   "metadata": {},
   "outputs": [
    {
     "ename": "IndentationError",
     "evalue": "expected an indented block (Temp/ipykernel_32704/463167258.py, line 6)",
     "output_type": "error",
     "traceback": [
      "\u001b[1;36m  File \u001b[1;32m\"C:\\Users\\josep\\AppData\\Local\\Temp/ipykernel_32704/463167258.py\"\u001b[1;36m, line \u001b[1;32m6\u001b[0m\n\u001b[1;33m    gray = cv2.cvtColor(frame, cv2.COLOR_BGR2GRAY)\u001b[0m\n\u001b[1;37m    ^\u001b[0m\n\u001b[1;31mIndentationError\u001b[0m\u001b[1;31m:\u001b[0m expected an indented block\n"
     ]
    }
   ],
   "source": [
    "while True:\n",
    "\n",
    "#Capture frame-by-frame\n",
    "\n",
    "ret,frame = video_capture.read()\n",
    "gray = cv2.cvtColor(frame, cv2.COLOR_BGR2GRAY)\n",
    "\n",
    "#Detetc faces in the image\n",
    "face= faceCascade.detectMultiScale(\n",
    "gray, #grayscale\n",
    "scaleFactor=1.1, #Scale the faces   ABBA=1.1 Faceparty=1.2 FaceGroup=1.5  \n",
    "#minNeighbour=5, #objects detected\n",
    "minSize=(30,30),\n",
    "flags = cv2.CASCADE_SCALE_IMAGE\n",
    ")\n",
    "\n",
    "    # Draw a rectangle around the faces\n",
    "for (x, y, w, h) in face:\n",
    "    cv2.rectangle(image, (x, y), (x+w, y+h), (0, 255, 0), 2)\n",
    "\n",
    "    #Display the frame\n",
    "    cv2.imshow('Video', frame)\n",
    "    \n",
    "    k= k = cv2.waitKey(30) & 0xff\n",
    "if k==27:\n",
    "        break  "
   ]
  },
  {
   "cell_type": "code",
   "execution_count": null,
   "id": "4c89e644",
   "metadata": {},
   "outputs": [],
   "source": [
    "video_capture.release()\n",
    "cv2.destroyAllWindows()"
   ]
  }
 ],
 "metadata": {
  "kernelspec": {
   "display_name": "Python 3 (ipykernel)",
   "language": "python",
   "name": "python3"
  },
  "language_info": {
   "codemirror_mode": {
    "name": "ipython",
    "version": 3
   },
   "file_extension": ".py",
   "mimetype": "text/x-python",
   "name": "python",
   "nbconvert_exporter": "python",
   "pygments_lexer": "ipython3",
   "version": "3.9.7"
  }
 },
 "nbformat": 4,
 "nbformat_minor": 5
}
