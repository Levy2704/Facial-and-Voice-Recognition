{
 "cells": [
  {
   "cell_type": "code",
   "execution_count": 108,
   "id": "75277893",
   "metadata": {},
   "outputs": [],
   "source": [
    "import cv2\n",
    "import sys"
   ]
  },
  {
   "cell_type": "code",
   "execution_count": 109,
   "id": "901e619b",
   "metadata": {},
   "outputs": [],
   "source": [
    "#Get user to implement values\n",
    "imagePath= \"abba.png\"\n",
    "cascPath=\"haarcascade_frontalface_default.xml\""
   ]
  },
  {
   "cell_type": "code",
   "execution_count": 110,
   "id": "c6c048d7",
   "metadata": {},
   "outputs": [],
   "source": [
    "#Create the haar cascade\n",
    "faceCascade = cv2.CascadeClassifier(cascPath)"
   ]
  },
  {
   "cell_type": "code",
   "execution_count": 111,
   "id": "afb59ea3",
   "metadata": {},
   "outputs": [],
   "source": [
    "image=cv2.imread(imagePath)\n",
    "gray = cv2.cvtColor(image, cv2.COLOR_BGR2GRAY)"
   ]
  },
  {
   "cell_type": "code",
   "execution_count": 112,
   "id": "3186567a",
   "metadata": {},
   "outputs": [],
   "source": [
    "#Detetc faces in the image\n",
    "face= faceCascade.detectMultiScale(\n",
    "      gray, #grayscale\n",
    "      scaleFactor=1.5, #Scale the faces   ABBA=1.1 Faceparty=1.2 FaceGroup=1.5  \n",
    "      #minNeighbour=5, #objects detected\n",
    "      minSize=(30,30),\n",
    "      flags = cv2.CASCADE_SCALE_IMAGE\n",
    ")"
   ]
  },
  {
   "cell_type": "code",
   "execution_count": 113,
   "id": "e1f21a13",
   "metadata": {},
   "outputs": [
    {
     "name": "stdout",
     "output_type": "stream",
     "text": [
      "Found 4 faces!\n"
     ]
    }
   ],
   "source": [
    "print (\"Found {0} faces!\".format(len(face)))\n",
    "# Draw a rectangle around the faces\n",
    "for (x, y, w, h) in face:\n",
    "    cv2.rectangle(image, (x, y), (x+w, y+h), (0, 255, 0), 2)"
   ]
  },
  {
   "cell_type": "code",
   "execution_count": 114,
   "id": "0f03e8b9",
   "metadata": {},
   "outputs": [
    {
     "data": {
      "text/plain": [
       "-1"
      ]
     },
     "execution_count": 114,
     "metadata": {},
     "output_type": "execute_result"
    }
   ],
   "source": [
    "cv2.imshow(\"Faces found\", image)\n",
    "cv2.waitKey(0)"
   ]
  },
  {
   "cell_type": "code",
   "execution_count": null,
   "id": "e9ad998d",
   "metadata": {},
   "outputs": [],
   "source": []
  }
 ],
 "metadata": {
  "kernelspec": {
   "display_name": "Python 3 (ipykernel)",
   "language": "python",
   "name": "python3"
  },
  "language_info": {
   "codemirror_mode": {
    "name": "ipython",
    "version": 3
   },
   "file_extension": ".py",
   "mimetype": "text/x-python",
   "name": "python",
   "nbconvert_exporter": "python",
   "pygments_lexer": "ipython3",
   "version": "3.9.7"
  }
 },
 "nbformat": 4,
 "nbformat_minor": 5
}
